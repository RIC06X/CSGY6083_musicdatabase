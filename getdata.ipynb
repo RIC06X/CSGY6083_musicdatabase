{
 "cells": [
  {
   "cell_type": "code",
   "execution_count": 19,
   "metadata": {},
   "outputs": [],
   "source": [
    "import pandas as pd\n",
    "import numpy as np"
   ]
  },
  {
   "cell_type": "code",
   "execution_count": 20,
   "metadata": {},
   "outputs": [],
   "source": [
    "musics = pd.read_csv(\"/Users/yanjiexu/Desktop/DBproj/tracks_features.csv\")"
   ]
  },
  {
   "cell_type": "code",
   "execution_count": 21,
   "metadata": {},
   "outputs": [
    {
     "data": {
      "text/plain": [
       "(1204025, 24)"
      ]
     },
     "execution_count": 21,
     "metadata": {},
     "output_type": "execute_result"
    }
   ],
   "source": [
    "musics.shape"
   ]
  },
  {
   "cell_type": "code",
   "execution_count": 22,
   "metadata": {},
   "outputs": [
    {
     "data": {
      "text/plain": [
       "array(['id', 'name', 'album', 'album_id', 'artists', 'artist_ids',\n",
       "       'track_number', 'disc_number', 'explicit', 'danceability',\n",
       "       'energy', 'key', 'loudness', 'mode', 'speechiness', 'acousticness',\n",
       "       'instrumentalness', 'liveness', 'valence', 'tempo', 'duration_ms',\n",
       "       'time_signature', 'year', 'release_date'], dtype=object)"
      ]
     },
     "execution_count": 22,
     "metadata": {},
     "output_type": "execute_result"
    }
   ],
   "source": [
    "musics.columns.values"
   ]
  },
  {
   "cell_type": "code",
   "execution_count": 23,
   "metadata": {},
   "outputs": [
    {
     "data": {
      "text/html": [
       "<div>\n",
       "<style scoped>\n",
       "    .dataframe tbody tr th:only-of-type {\n",
       "        vertical-align: middle;\n",
       "    }\n",
       "\n",
       "    .dataframe tbody tr th {\n",
       "        vertical-align: top;\n",
       "    }\n",
       "\n",
       "    .dataframe thead th {\n",
       "        text-align: right;\n",
       "    }\n",
       "</style>\n",
       "<table border=\"1\" class=\"dataframe\">\n",
       "  <thead>\n",
       "    <tr style=\"text-align: right;\">\n",
       "      <th></th>\n",
       "      <th>id</th>\n",
       "      <th>name</th>\n",
       "      <th>album</th>\n",
       "      <th>album_id</th>\n",
       "      <th>artists</th>\n",
       "      <th>artist_ids</th>\n",
       "      <th>track_number</th>\n",
       "      <th>disc_number</th>\n",
       "      <th>explicit</th>\n",
       "      <th>danceability</th>\n",
       "      <th>...</th>\n",
       "      <th>speechiness</th>\n",
       "      <th>acousticness</th>\n",
       "      <th>instrumentalness</th>\n",
       "      <th>liveness</th>\n",
       "      <th>valence</th>\n",
       "      <th>tempo</th>\n",
       "      <th>duration_ms</th>\n",
       "      <th>time_signature</th>\n",
       "      <th>year</th>\n",
       "      <th>release_date</th>\n",
       "    </tr>\n",
       "  </thead>\n",
       "  <tbody>\n",
       "    <tr>\n",
       "      <th>0</th>\n",
       "      <td>7lmeHLHBe4nmXzuXc0HDjk</td>\n",
       "      <td>Testify</td>\n",
       "      <td>The Battle Of Los Angeles</td>\n",
       "      <td>2eia0myWFgoHuttJytCxgX</td>\n",
       "      <td>['Rage Against The Machine']</td>\n",
       "      <td>['2d0hyoQ5ynDBnkvAbJKORj']</td>\n",
       "      <td>1</td>\n",
       "      <td>1</td>\n",
       "      <td>False</td>\n",
       "      <td>0.470</td>\n",
       "      <td>...</td>\n",
       "      <td>0.0727</td>\n",
       "      <td>0.02610</td>\n",
       "      <td>0.000011</td>\n",
       "      <td>0.3560</td>\n",
       "      <td>0.503</td>\n",
       "      <td>117.906</td>\n",
       "      <td>210133</td>\n",
       "      <td>4.0</td>\n",
       "      <td>1999</td>\n",
       "      <td>1999-11-02</td>\n",
       "    </tr>\n",
       "    <tr>\n",
       "      <th>1</th>\n",
       "      <td>1wsRitfRRtWyEapl0q22o8</td>\n",
       "      <td>Guerrilla Radio</td>\n",
       "      <td>The Battle Of Los Angeles</td>\n",
       "      <td>2eia0myWFgoHuttJytCxgX</td>\n",
       "      <td>['Rage Against The Machine']</td>\n",
       "      <td>['2d0hyoQ5ynDBnkvAbJKORj']</td>\n",
       "      <td>2</td>\n",
       "      <td>1</td>\n",
       "      <td>True</td>\n",
       "      <td>0.599</td>\n",
       "      <td>...</td>\n",
       "      <td>0.1880</td>\n",
       "      <td>0.01290</td>\n",
       "      <td>0.000071</td>\n",
       "      <td>0.1550</td>\n",
       "      <td>0.489</td>\n",
       "      <td>103.680</td>\n",
       "      <td>206200</td>\n",
       "      <td>4.0</td>\n",
       "      <td>1999</td>\n",
       "      <td>1999-11-02</td>\n",
       "    </tr>\n",
       "    <tr>\n",
       "      <th>2</th>\n",
       "      <td>1hR0fIFK2qRG3f3RF70pb7</td>\n",
       "      <td>Calm Like a Bomb</td>\n",
       "      <td>The Battle Of Los Angeles</td>\n",
       "      <td>2eia0myWFgoHuttJytCxgX</td>\n",
       "      <td>['Rage Against The Machine']</td>\n",
       "      <td>['2d0hyoQ5ynDBnkvAbJKORj']</td>\n",
       "      <td>3</td>\n",
       "      <td>1</td>\n",
       "      <td>False</td>\n",
       "      <td>0.315</td>\n",
       "      <td>...</td>\n",
       "      <td>0.4830</td>\n",
       "      <td>0.02340</td>\n",
       "      <td>0.000002</td>\n",
       "      <td>0.1220</td>\n",
       "      <td>0.370</td>\n",
       "      <td>149.749</td>\n",
       "      <td>298893</td>\n",
       "      <td>4.0</td>\n",
       "      <td>1999</td>\n",
       "      <td>1999-11-02</td>\n",
       "    </tr>\n",
       "    <tr>\n",
       "      <th>3</th>\n",
       "      <td>2lbASgTSoDO7MTuLAXlTW0</td>\n",
       "      <td>Mic Check</td>\n",
       "      <td>The Battle Of Los Angeles</td>\n",
       "      <td>2eia0myWFgoHuttJytCxgX</td>\n",
       "      <td>['Rage Against The Machine']</td>\n",
       "      <td>['2d0hyoQ5ynDBnkvAbJKORj']</td>\n",
       "      <td>4</td>\n",
       "      <td>1</td>\n",
       "      <td>True</td>\n",
       "      <td>0.440</td>\n",
       "      <td>...</td>\n",
       "      <td>0.2370</td>\n",
       "      <td>0.16300</td>\n",
       "      <td>0.000004</td>\n",
       "      <td>0.1210</td>\n",
       "      <td>0.574</td>\n",
       "      <td>96.752</td>\n",
       "      <td>213640</td>\n",
       "      <td>4.0</td>\n",
       "      <td>1999</td>\n",
       "      <td>1999-11-02</td>\n",
       "    </tr>\n",
       "    <tr>\n",
       "      <th>4</th>\n",
       "      <td>1MQTmpYOZ6fcMQc56Hdo7T</td>\n",
       "      <td>Sleep Now In the Fire</td>\n",
       "      <td>The Battle Of Los Angeles</td>\n",
       "      <td>2eia0myWFgoHuttJytCxgX</td>\n",
       "      <td>['Rage Against The Machine']</td>\n",
       "      <td>['2d0hyoQ5ynDBnkvAbJKORj']</td>\n",
       "      <td>5</td>\n",
       "      <td>1</td>\n",
       "      <td>False</td>\n",
       "      <td>0.426</td>\n",
       "      <td>...</td>\n",
       "      <td>0.0701</td>\n",
       "      <td>0.00162</td>\n",
       "      <td>0.105000</td>\n",
       "      <td>0.0789</td>\n",
       "      <td>0.539</td>\n",
       "      <td>127.059</td>\n",
       "      <td>205600</td>\n",
       "      <td>4.0</td>\n",
       "      <td>1999</td>\n",
       "      <td>1999-11-02</td>\n",
       "    </tr>\n",
       "  </tbody>\n",
       "</table>\n",
       "<p>5 rows × 24 columns</p>\n",
       "</div>"
      ],
      "text/plain": [
       "                       id                   name                      album  \\\n",
       "0  7lmeHLHBe4nmXzuXc0HDjk                Testify  The Battle Of Los Angeles   \n",
       "1  1wsRitfRRtWyEapl0q22o8        Guerrilla Radio  The Battle Of Los Angeles   \n",
       "2  1hR0fIFK2qRG3f3RF70pb7       Calm Like a Bomb  The Battle Of Los Angeles   \n",
       "3  2lbASgTSoDO7MTuLAXlTW0              Mic Check  The Battle Of Los Angeles   \n",
       "4  1MQTmpYOZ6fcMQc56Hdo7T  Sleep Now In the Fire  The Battle Of Los Angeles   \n",
       "\n",
       "                 album_id                       artists  \\\n",
       "0  2eia0myWFgoHuttJytCxgX  ['Rage Against The Machine']   \n",
       "1  2eia0myWFgoHuttJytCxgX  ['Rage Against The Machine']   \n",
       "2  2eia0myWFgoHuttJytCxgX  ['Rage Against The Machine']   \n",
       "3  2eia0myWFgoHuttJytCxgX  ['Rage Against The Machine']   \n",
       "4  2eia0myWFgoHuttJytCxgX  ['Rage Against The Machine']   \n",
       "\n",
       "                   artist_ids  track_number  disc_number  explicit  \\\n",
       "0  ['2d0hyoQ5ynDBnkvAbJKORj']             1            1     False   \n",
       "1  ['2d0hyoQ5ynDBnkvAbJKORj']             2            1      True   \n",
       "2  ['2d0hyoQ5ynDBnkvAbJKORj']             3            1     False   \n",
       "3  ['2d0hyoQ5ynDBnkvAbJKORj']             4            1      True   \n",
       "4  ['2d0hyoQ5ynDBnkvAbJKORj']             5            1     False   \n",
       "\n",
       "   danceability  ...  speechiness  acousticness  instrumentalness  liveness  \\\n",
       "0         0.470  ...       0.0727       0.02610          0.000011    0.3560   \n",
       "1         0.599  ...       0.1880       0.01290          0.000071    0.1550   \n",
       "2         0.315  ...       0.4830       0.02340          0.000002    0.1220   \n",
       "3         0.440  ...       0.2370       0.16300          0.000004    0.1210   \n",
       "4         0.426  ...       0.0701       0.00162          0.105000    0.0789   \n",
       "\n",
       "   valence    tempo  duration_ms  time_signature  year  release_date  \n",
       "0    0.503  117.906       210133             4.0  1999    1999-11-02  \n",
       "1    0.489  103.680       206200             4.0  1999    1999-11-02  \n",
       "2    0.370  149.749       298893             4.0  1999    1999-11-02  \n",
       "3    0.574   96.752       213640             4.0  1999    1999-11-02  \n",
       "4    0.539  127.059       205600             4.0  1999    1999-11-02  \n",
       "\n",
       "[5 rows x 24 columns]"
      ]
     },
     "execution_count": 23,
     "metadata": {},
     "output_type": "execute_result"
    }
   ],
   "source": [
    "musics['artists'].unique()\n",
    "musics.head()"
   ]
  },
  {
   "cell_type": "code",
   "execution_count": 24,
   "metadata": {},
   "outputs": [],
   "source": [
    "artists = musics[['artists', 'artist_ids']]\n",
    "artists = artists.drop_duplicates()"
   ]
  },
  {
   "cell_type": "code",
   "execution_count": 25,
   "metadata": {},
   "outputs": [],
   "source": [
    "mydict = artists.to_json(orient=\"records\")"
   ]
  },
  {
   "cell_type": "code",
   "execution_count": 26,
   "metadata": {},
   "outputs": [
    {
     "data": {
      "text/plain": [
       "166434"
      ]
     },
     "execution_count": 26,
     "metadata": {},
     "output_type": "execute_result"
    }
   ],
   "source": [
    "import json\n",
    "parsed = json.loads(mydict)\n",
    "len(parsed)"
   ]
  },
  {
   "cell_type": "code",
   "execution_count": 27,
   "metadata": {},
   "outputs": [
    {
     "name": "stdout",
     "output_type": "stream",
     "text": [
      "Rage Against The Machine\n"
     ]
    }
   ],
   "source": [
    "import ast\n",
    "names = parsed[0]['artists']\n",
    "names = ast.literal_eval(names)\n",
    "for name in names:\n",
    "    print(name)\n",
    "\n"
   ]
  },
  {
   "cell_type": "code",
   "execution_count": 28,
   "metadata": {},
   "outputs": [],
   "source": [
    "def processArtist_AID(parsed):\n",
    "    artist_id = {}\n",
    "    for i in range(len(parsed)):\n",
    "        names, ids = parsed[i]['artists'], parsed[i]['artist_ids']\n",
    "        names = ast.literal_eval(names)\n",
    "        ids = ast.literal_eval(ids)\n",
    "        for j in range(len(names)):\n",
    "            if ids[j] not in artist_id:\n",
    "                artist_id[ids[j]] = names[j]\n",
    "    return artist_id"
   ]
  },
  {
   "cell_type": "code",
   "execution_count": 29,
   "metadata": {},
   "outputs": [],
   "source": [
    "id_artist = processArtist_AID(parsed)"
   ]
  },
  {
   "cell_type": "code",
   "execution_count": 30,
   "metadata": {},
   "outputs": [],
   "source": [
    "import csv\n",
    "with open('artists.csv', 'w') as f:\n",
    "    for key in id_artist.keys():\n",
    "        f.write(\"%s\\t%s\\n\"%(key,id_artist[key]))\n",
    "        \n",
    "    "
   ]
  },
  {
   "cell_type": "code",
   "execution_count": 34,
   "metadata": {},
   "outputs": [],
   "source": [
    "albums = musics[['album_id', 'album','release_date']]\n",
    "albums = albums.drop_duplicates(ignore_index= True)\n",
    "albums.to_csv('/Users/yanjiexu/Desktop/DBproj/albums.csv',index=False)"
   ]
  },
  {
   "cell_type": "code",
   "execution_count": 31,
   "metadata": {},
   "outputs": [
    {
     "data": {
      "text/html": [
       "<div>\n",
       "<style scoped>\n",
       "    .dataframe tbody tr th:only-of-type {\n",
       "        vertical-align: middle;\n",
       "    }\n",
       "\n",
       "    .dataframe tbody tr th {\n",
       "        vertical-align: top;\n",
       "    }\n",
       "\n",
       "    .dataframe thead th {\n",
       "        text-align: right;\n",
       "    }\n",
       "</style>\n",
       "<table border=\"1\" class=\"dataframe\">\n",
       "  <thead>\n",
       "    <tr style=\"text-align: right;\">\n",
       "      <th></th>\n",
       "      <th>id</th>\n",
       "      <th>name</th>\n",
       "      <th>album_id</th>\n",
       "      <th>duration_ms</th>\n",
       "      <th>release_date</th>\n",
       "    </tr>\n",
       "  </thead>\n",
       "  <tbody>\n",
       "    <tr>\n",
       "      <th>0</th>\n",
       "      <td>7lmeHLHBe4nmXzuXc0HDjk</td>\n",
       "      <td>Testify</td>\n",
       "      <td>2eia0myWFgoHuttJytCxgX</td>\n",
       "      <td>210133</td>\n",
       "      <td>1999-11-02</td>\n",
       "    </tr>\n",
       "    <tr>\n",
       "      <th>1</th>\n",
       "      <td>1wsRitfRRtWyEapl0q22o8</td>\n",
       "      <td>Guerrilla Radio</td>\n",
       "      <td>2eia0myWFgoHuttJytCxgX</td>\n",
       "      <td>206200</td>\n",
       "      <td>1999-11-02</td>\n",
       "    </tr>\n",
       "    <tr>\n",
       "      <th>2</th>\n",
       "      <td>1hR0fIFK2qRG3f3RF70pb7</td>\n",
       "      <td>Calm Like a Bomb</td>\n",
       "      <td>2eia0myWFgoHuttJytCxgX</td>\n",
       "      <td>298893</td>\n",
       "      <td>1999-11-02</td>\n",
       "    </tr>\n",
       "    <tr>\n",
       "      <th>3</th>\n",
       "      <td>2lbASgTSoDO7MTuLAXlTW0</td>\n",
       "      <td>Mic Check</td>\n",
       "      <td>2eia0myWFgoHuttJytCxgX</td>\n",
       "      <td>213640</td>\n",
       "      <td>1999-11-02</td>\n",
       "    </tr>\n",
       "    <tr>\n",
       "      <th>4</th>\n",
       "      <td>1MQTmpYOZ6fcMQc56Hdo7T</td>\n",
       "      <td>Sleep Now In the Fire</td>\n",
       "      <td>2eia0myWFgoHuttJytCxgX</td>\n",
       "      <td>205600</td>\n",
       "      <td>1999-11-02</td>\n",
       "    </tr>\n",
       "  </tbody>\n",
       "</table>\n",
       "</div>"
      ],
      "text/plain": [
       "                       id                   name                album_id  \\\n",
       "0  7lmeHLHBe4nmXzuXc0HDjk                Testify  2eia0myWFgoHuttJytCxgX   \n",
       "1  1wsRitfRRtWyEapl0q22o8        Guerrilla Radio  2eia0myWFgoHuttJytCxgX   \n",
       "2  1hR0fIFK2qRG3f3RF70pb7       Calm Like a Bomb  2eia0myWFgoHuttJytCxgX   \n",
       "3  2lbASgTSoDO7MTuLAXlTW0              Mic Check  2eia0myWFgoHuttJytCxgX   \n",
       "4  1MQTmpYOZ6fcMQc56Hdo7T  Sleep Now In the Fire  2eia0myWFgoHuttJytCxgX   \n",
       "\n",
       "   duration_ms release_date  \n",
       "0       210133   1999-11-02  \n",
       "1       206200   1999-11-02  \n",
       "2       298893   1999-11-02  \n",
       "3       213640   1999-11-02  \n",
       "4       205600   1999-11-02  "
      ]
     },
     "execution_count": 31,
     "metadata": {},
     "output_type": "execute_result"
    }
   ],
   "source": [
    "songs = musics[[ 'id','name', 'album_id', 'duration_ms', 'release_date']]\n",
    "songs.head()\n"
   ]
  },
  {
   "cell_type": "code",
   "execution_count": 32,
   "metadata": {},
   "outputs": [],
   "source": [
    "songs.to_csv('/Users/yanjiexu/Desktop/DBproj/songs.csv',index=False)"
   ]
  },
  {
   "cell_type": "code",
   "execution_count": 11,
   "metadata": {},
   "outputs": [
    {
     "data": {
      "text/html": [
       "<div>\n",
       "<style scoped>\n",
       "    .dataframe tbody tr th:only-of-type {\n",
       "        vertical-align: middle;\n",
       "    }\n",
       "\n",
       "    .dataframe tbody tr th {\n",
       "        vertical-align: top;\n",
       "    }\n",
       "\n",
       "    .dataframe thead th {\n",
       "        text-align: right;\n",
       "    }\n",
       "</style>\n",
       "<table border=\"1\" class=\"dataframe\">\n",
       "  <thead>\n",
       "    <tr style=\"text-align: right;\">\n",
       "      <th></th>\n",
       "      <th>name</th>\n",
       "      <th>id</th>\n",
       "      <th>album_id</th>\n",
       "      <th>artist_ids</th>\n",
       "      <th>duration_ms</th>\n",
       "      <th>year</th>\n",
       "      <th>release_date</th>\n",
       "    </tr>\n",
       "  </thead>\n",
       "  <tbody>\n",
       "    <tr>\n",
       "      <th>0</th>\n",
       "      <td>Testify</td>\n",
       "      <td>7lmeHLHBe4nmXzuXc0HDjk</td>\n",
       "      <td>2eia0myWFgoHuttJytCxgX</td>\n",
       "      <td>['2d0hyoQ5ynDBnkvAbJKORj']</td>\n",
       "      <td>210133</td>\n",
       "      <td>1999</td>\n",
       "      <td>1999-11-02</td>\n",
       "    </tr>\n",
       "    <tr>\n",
       "      <th>1</th>\n",
       "      <td>Guerrilla Radio</td>\n",
       "      <td>1wsRitfRRtWyEapl0q22o8</td>\n",
       "      <td>2eia0myWFgoHuttJytCxgX</td>\n",
       "      <td>['2d0hyoQ5ynDBnkvAbJKORj']</td>\n",
       "      <td>206200</td>\n",
       "      <td>1999</td>\n",
       "      <td>1999-11-02</td>\n",
       "    </tr>\n",
       "    <tr>\n",
       "      <th>2</th>\n",
       "      <td>Calm Like a Bomb</td>\n",
       "      <td>1hR0fIFK2qRG3f3RF70pb7</td>\n",
       "      <td>2eia0myWFgoHuttJytCxgX</td>\n",
       "      <td>['2d0hyoQ5ynDBnkvAbJKORj']</td>\n",
       "      <td>298893</td>\n",
       "      <td>1999</td>\n",
       "      <td>1999-11-02</td>\n",
       "    </tr>\n",
       "    <tr>\n",
       "      <th>3</th>\n",
       "      <td>Mic Check</td>\n",
       "      <td>2lbASgTSoDO7MTuLAXlTW0</td>\n",
       "      <td>2eia0myWFgoHuttJytCxgX</td>\n",
       "      <td>['2d0hyoQ5ynDBnkvAbJKORj']</td>\n",
       "      <td>213640</td>\n",
       "      <td>1999</td>\n",
       "      <td>1999-11-02</td>\n",
       "    </tr>\n",
       "    <tr>\n",
       "      <th>4</th>\n",
       "      <td>Sleep Now In the Fire</td>\n",
       "      <td>1MQTmpYOZ6fcMQc56Hdo7T</td>\n",
       "      <td>2eia0myWFgoHuttJytCxgX</td>\n",
       "      <td>['2d0hyoQ5ynDBnkvAbJKORj']</td>\n",
       "      <td>205600</td>\n",
       "      <td>1999</td>\n",
       "      <td>1999-11-02</td>\n",
       "    </tr>\n",
       "  </tbody>\n",
       "</table>\n",
       "</div>"
      ],
      "text/plain": [
       "                    name                      id                album_id  \\\n",
       "0                Testify  7lmeHLHBe4nmXzuXc0HDjk  2eia0myWFgoHuttJytCxgX   \n",
       "1        Guerrilla Radio  1wsRitfRRtWyEapl0q22o8  2eia0myWFgoHuttJytCxgX   \n",
       "2       Calm Like a Bomb  1hR0fIFK2qRG3f3RF70pb7  2eia0myWFgoHuttJytCxgX   \n",
       "3              Mic Check  2lbASgTSoDO7MTuLAXlTW0  2eia0myWFgoHuttJytCxgX   \n",
       "4  Sleep Now In the Fire  1MQTmpYOZ6fcMQc56Hdo7T  2eia0myWFgoHuttJytCxgX   \n",
       "\n",
       "                   artist_ids  duration_ms  year release_date  \n",
       "0  ['2d0hyoQ5ynDBnkvAbJKORj']       210133  1999   1999-11-02  \n",
       "1  ['2d0hyoQ5ynDBnkvAbJKORj']       206200  1999   1999-11-02  \n",
       "2  ['2d0hyoQ5ynDBnkvAbJKORj']       298893  1999   1999-11-02  \n",
       "3  ['2d0hyoQ5ynDBnkvAbJKORj']       213640  1999   1999-11-02  \n",
       "4  ['2d0hyoQ5ynDBnkvAbJKORj']       205600  1999   1999-11-02  "
      ]
     },
     "execution_count": 11,
     "metadata": {},
     "output_type": "execute_result"
    }
   ],
   "source": [
    "songs[:5]"
   ]
  },
  {
   "cell_type": "code",
   "execution_count": 51,
   "metadata": {},
   "outputs": [
    {
     "data": {
      "text/html": [
       "<div>\n",
       "<style scoped>\n",
       "    .dataframe tbody tr th:only-of-type {\n",
       "        vertical-align: middle;\n",
       "    }\n",
       "\n",
       "    .dataframe tbody tr th {\n",
       "        vertical-align: top;\n",
       "    }\n",
       "\n",
       "    .dataframe thead th {\n",
       "        text-align: right;\n",
       "    }\n",
       "</style>\n",
       "<table border=\"1\" class=\"dataframe\">\n",
       "  <thead>\n",
       "    <tr style=\"text-align: right;\">\n",
       "      <th></th>\n",
       "      <th>album_id</th>\n",
       "      <th>artist_ids</th>\n",
       "    </tr>\n",
       "  </thead>\n",
       "  <tbody>\n",
       "    <tr>\n",
       "      <th>0</th>\n",
       "      <td>2eia0myWFgoHuttJytCxgX</td>\n",
       "      <td>['2d0hyoQ5ynDBnkvAbJKORj']</td>\n",
       "    </tr>\n",
       "    <tr>\n",
       "      <th>12</th>\n",
       "      <td>4LaRYkT4oy47wEuQgkLBul</td>\n",
       "      <td>['2d0hyoQ5ynDBnkvAbJKORj']</td>\n",
       "    </tr>\n",
       "    <tr>\n",
       "      <th>22</th>\n",
       "      <td>4evw6IBex3N8x1oA2axMTH</td>\n",
       "      <td>['77tT1kLj6mCWtFNqiOmP9H']</td>\n",
       "    </tr>\n",
       "    <tr>\n",
       "      <th>36</th>\n",
       "      <td>0eaPZK3nTV2Ei075j2t6Na</td>\n",
       "      <td>['2U6gqwyl9F33YxawnFrZG7']</td>\n",
       "    </tr>\n",
       "    <tr>\n",
       "      <th>47</th>\n",
       "      <td>2yxoWG32Id6PzkER95aCtY</td>\n",
       "      <td>['4sh4MHP7lhrSUakxwZzwqz']</td>\n",
       "    </tr>\n",
       "    <tr>\n",
       "      <th>...</th>\n",
       "      <td>...</td>\n",
       "      <td>...</td>\n",
       "    </tr>\n",
       "    <tr>\n",
       "      <th>1203999</th>\n",
       "      <td>2c3RatEKHU9sF0kv0ynQO2</td>\n",
       "      <td>['71Cez1b1NqsxIn5u8XNiQD']</td>\n",
       "    </tr>\n",
       "    <tr>\n",
       "      <th>1204011</th>\n",
       "      <td>6aHlKXvgMOgKxwQDCadMin</td>\n",
       "      <td>['71Cez1b1NqsxIn5u8XNiQD']</td>\n",
       "    </tr>\n",
       "    <tr>\n",
       "      <th>1204015</th>\n",
       "      <td>5K45d2l5PJXVy5ESK0gKg2</td>\n",
       "      <td>['71Cez1b1NqsxIn5u8XNiQD']</td>\n",
       "    </tr>\n",
       "    <tr>\n",
       "      <th>1204018</th>\n",
       "      <td>4mpGPCYjrzAeRWC6r08C2n</td>\n",
       "      <td>['4IR8ZkpbyyKrqsIzchF3NB', '6fUcX0Rh7Z17l8jAFQ...</td>\n",
       "    </tr>\n",
       "    <tr>\n",
       "      <th>1204019</th>\n",
       "      <td>38O5Ys0W9PFS5K7dMb7yKb</td>\n",
       "      <td>['7AjItKsRnEYRSiBt2OxK1y']</td>\n",
       "    </tr>\n",
       "  </tbody>\n",
       "</table>\n",
       "<p>250260 rows × 2 columns</p>\n",
       "</div>"
      ],
      "text/plain": [
       "                       album_id  \\\n",
       "0        2eia0myWFgoHuttJytCxgX   \n",
       "12       4LaRYkT4oy47wEuQgkLBul   \n",
       "22       4evw6IBex3N8x1oA2axMTH   \n",
       "36       0eaPZK3nTV2Ei075j2t6Na   \n",
       "47       2yxoWG32Id6PzkER95aCtY   \n",
       "...                         ...   \n",
       "1203999  2c3RatEKHU9sF0kv0ynQO2   \n",
       "1204011  6aHlKXvgMOgKxwQDCadMin   \n",
       "1204015  5K45d2l5PJXVy5ESK0gKg2   \n",
       "1204018  4mpGPCYjrzAeRWC6r08C2n   \n",
       "1204019  38O5Ys0W9PFS5K7dMb7yKb   \n",
       "\n",
       "                                                artist_ids  \n",
       "0                               ['2d0hyoQ5ynDBnkvAbJKORj']  \n",
       "12                              ['2d0hyoQ5ynDBnkvAbJKORj']  \n",
       "22                              ['77tT1kLj6mCWtFNqiOmP9H']  \n",
       "36                              ['2U6gqwyl9F33YxawnFrZG7']  \n",
       "47                              ['4sh4MHP7lhrSUakxwZzwqz']  \n",
       "...                                                    ...  \n",
       "1203999                         ['71Cez1b1NqsxIn5u8XNiQD']  \n",
       "1204011                         ['71Cez1b1NqsxIn5u8XNiQD']  \n",
       "1204015                         ['71Cez1b1NqsxIn5u8XNiQD']  \n",
       "1204018  ['4IR8ZkpbyyKrqsIzchF3NB', '6fUcX0Rh7Z17l8jAFQ...  \n",
       "1204019                         ['7AjItKsRnEYRSiBt2OxK1y']  \n",
       "\n",
       "[250260 rows x 2 columns]"
      ]
     },
     "execution_count": 51,
     "metadata": {},
     "output_type": "execute_result"
    }
   ],
   "source": [
    "artist_album_map = musics[['album_id', 'artist_ids']].drop_duplicates()\n",
    "artist_album_map"
   ]
  },
  {
   "cell_type": "code",
   "execution_count": 52,
   "metadata": {},
   "outputs": [
    {
     "data": {
      "text/plain": [
       "{'album_id': '2eia0myWFgoHuttJytCxgX',\n",
       " 'artist_ids': \"['2d0hyoQ5ynDBnkvAbJKORj']\"}"
      ]
     },
     "execution_count": 52,
     "metadata": {},
     "output_type": "execute_result"
    }
   ],
   "source": [
    "artist_album_map_json = artist_album_map.to_json(orient=\"records\")\n",
    "artist_album_map_json = json.loads(artist_album_map_json)\n",
    "artist_album_map_json[0]"
   ]
  },
  {
   "cell_type": "code",
   "execution_count": 58,
   "metadata": {},
   "outputs": [
    {
     "name": "stdout",
     "output_type": "stream",
     "text": [
      "2eia0myWFgoHuttJytCxgX\n",
      "['2d0hyoQ5ynDBnkvAbJKORj']\n",
      "[('2eia0myWFgoHuttJytCxgX', '2d0hyoQ5ynDBnkvAbJKORj')]\n"
     ]
    }
   ],
   "source": [
    "\n",
    "ans = []\n",
    "album_ids, artist_ids = artist_album_map_json[0]['album_id'], artist_album_map_json[0]['artist_ids']\n",
    "artist_ids = ast.literal_eval(artist_ids)\n",
    "for j in range(len(artist_ids)):\n",
    "    ans.append((album_ids, artist_ids[j]))\n",
    "print(album_ids)\n",
    "print(artist_ids)\n",
    "print(ans)"
   ]
  },
  {
   "cell_type": "code",
   "execution_count": 59,
   "metadata": {},
   "outputs": [],
   "source": [
    "def processTwoAtttributeMapping(parsed, first_param, second_param):\n",
    "    ans = []\n",
    "    for i in range(len(parsed)):\n",
    "        album_ids, artist_ids = parsed[i][first_param], parsed[i][second_param]\n",
    "        # album_ids = ast.literal_eval(album_ids)\n",
    "        artist_ids = ast.literal_eval(artist_ids)\n",
    "        for j in range(len(artist_ids)):\n",
    "            ans.append((album_ids, artist_ids[j]))\n",
    "    return ans"
   ]
  },
  {
   "cell_type": "code",
   "execution_count": 61,
   "metadata": {},
   "outputs": [],
   "source": [
    "ans = processTwoAtttributeMapping(artist_album_map_json, 'album_id', 'artist_ids')"
   ]
  },
  {
   "cell_type": "code",
   "execution_count": null,
   "metadata": {},
   "outputs": [],
   "source": [
    "with open('album_artist.csv', 'w') as f:\n",
    "    for key in id_artist.keys():\n",
    "        f.write(\"%s\\t%s\\n\"%(key,id_artist[key]))"
   ]
  },
  {
   "cell_type": "code",
   "execution_count": 13,
   "metadata": {},
   "outputs": [
    {
     "data": {
      "text/plain": [
       "list"
      ]
     },
     "execution_count": 13,
     "metadata": {},
     "output_type": "execute_result"
    }
   ],
   "source": [
    "new_artists = [artist[2:-2] for artist in artists]\n",
    "type(new_artists)\n"
   ]
  },
  {
   "cell_type": "code",
   "execution_count": 14,
   "metadata": {},
   "outputs": [
    {
     "ename": "TypeError",
     "evalue": "unhashable type: 'numpy.ndarray'",
     "output_type": "error",
     "traceback": [
      "\u001b[0;31m---------------------------------------------------------------------------\u001b[0m",
      "\u001b[0;31mTypeError\u001b[0m                                 Traceback (most recent call last)",
      "\u001b[0;32m/var/folders/kc/nt04f1vj3q31pm86qrz035qc0000gn/T/ipykernel_2448/4162670102.py\u001b[0m in \u001b[0;36m<module>\u001b[0;34m\u001b[0m\n\u001b[0;32m----> 1\u001b[0;31m \u001b[0mmyset\u001b[0m \u001b[0;34m=\u001b[0m \u001b[0mset\u001b[0m\u001b[0;34m(\u001b[0m\u001b[0mnew_artists\u001b[0m\u001b[0;34m)\u001b[0m\u001b[0;34m\u001b[0m\u001b[0;34m\u001b[0m\u001b[0m\n\u001b[0m\u001b[1;32m      2\u001b[0m \u001b[0mart\u001b[0m \u001b[0;34m=\u001b[0m \u001b[0mpd\u001b[0m\u001b[0;34m.\u001b[0m\u001b[0mDataFrame\u001b[0m\u001b[0;34m(\u001b[0m\u001b[0mmyset\u001b[0m\u001b[0;34m)\u001b[0m\u001b[0;34m\u001b[0m\u001b[0;34m\u001b[0m\u001b[0m\n",
      "\u001b[0;31mTypeError\u001b[0m: unhashable type: 'numpy.ndarray'"
     ]
    }
   ],
   "source": [
    "myset = set(new_artists)\n",
    "art = pd.DataFrame(myset)"
   ]
  },
  {
   "cell_type": "code",
   "execution_count": 15,
   "metadata": {},
   "outputs": [
    {
     "ename": "NameError",
     "evalue": "name 'art' is not defined",
     "output_type": "error",
     "traceback": [
      "\u001b[0;31m---------------------------------------------------------------------------\u001b[0m",
      "\u001b[0;31mNameError\u001b[0m                                 Traceback (most recent call last)",
      "\u001b[0;32m/var/folders/kc/nt04f1vj3q31pm86qrz035qc0000gn/T/ipykernel_2448/1993693270.py\u001b[0m in \u001b[0;36m<module>\u001b[0;34m\u001b[0m\n\u001b[0;32m----> 1\u001b[0;31m \u001b[0mart\u001b[0m\u001b[0;34m.\u001b[0m\u001b[0mto_csv\u001b[0m\u001b[0;34m(\u001b[0m\u001b[0;34m'/Users/yanjiexu/Desktop/test.csv'\u001b[0m\u001b[0;34m)\u001b[0m\u001b[0;34m\u001b[0m\u001b[0;34m\u001b[0m\u001b[0m\n\u001b[0m",
      "\u001b[0;31mNameError\u001b[0m: name 'art' is not defined"
     ]
    }
   ],
   "source": [
    "art.to_csv('/Users/yanjiexu/Desktop/test.csv')"
   ]
  },
  {
   "cell_type": "code",
   "execution_count": null,
   "metadata": {},
   "outputs": [],
   "source": []
  }
 ],
 "metadata": {
  "interpreter": {
   "hash": "b0fa6594d8f4cbf19f97940f81e996739fb7646882a419484c72d19e05852a7e"
  },
  "kernelspec": {
   "display_name": "Python 3.9.9 64-bit",
   "language": "python",
   "name": "python3"
  },
  "language_info": {
   "codemirror_mode": {
    "name": "ipython",
    "version": 3
   },
   "file_extension": ".py",
   "mimetype": "text/x-python",
   "name": "python",
   "nbconvert_exporter": "python",
   "pygments_lexer": "ipython3",
   "version": "3.9.9"
  },
  "orig_nbformat": 4
 },
 "nbformat": 4,
 "nbformat_minor": 2
}
